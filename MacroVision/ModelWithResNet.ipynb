{
 "cells": [
  {
   "cell_type": "code",
   "execution_count": 4,
   "id": "f7dd981d-9fd5-4e6a-a5ad-caccccb9ee03",
   "metadata": {},
   "outputs": [
    {
     "name": "stdout",
     "output_type": "stream",
     "text": [
      "\n",
      "0: 384x640 (no detections), 169.4ms\n",
      "Speed: 4.7ms preprocess, 169.4ms inference, 2.3ms postprocess per image at shape (1, 3, 384, 640)\n"
     ]
    }
   ],
   "source": [
    "from ultralytics import YOLO\n",
    "import torch\n",
    "from torchvision import models, transforms\n",
    "from PIL import Image\n",
    "import requests\n",
    "from io import BytesIO\n",
    "\n",
    "detector = YOLO(\"/root/Projects/Hackathon/MacroVision/Model/best.pt\")\n",
    "food_classifier = models.resnet50(weights=models.ResNet50_Weights.DEFAULT)\n",
    "food_classifier.eval()\n",
    "\n",
    "\n",
    "def analyze_image(image_url):\n",
    "    try:\n",
    "        response = requests.get(image_url, timeout=10)\n",
    "        img = Image.open(BytesIO(response.content))\n",
    "\n",
    "        detections = detector.predict(img, conf=0.3, save=False)\n",
    "        \n",
    "        results = []\n",
    "        if len(detections[0].boxes) > 0:\n",
    "            for box in detections[0].boxes:\n",
    "                x1, y1, x2, y2 = map(int, box.xyxy[0].tolist())\n",
    "                crop = img.crop((x1, y1, x2, y2))\n",
    "                \n",
    "                food_type = classify_food(crop)\n",
    "                if food_type != \"non-food item\":\n",
    "                    results.append({\n",
    "                        \"bbox\": [x1, y1, x2, y2],\n",
    "                        \"food\": food_type,\n",
    "                        \"confidence\": float(box.conf.item())\n",
    "                    })\n",
    "\n",
    "            plotted = detections[0].plot()\n",
    "            Image.fromarray(plotted).show()\n",
    "        else:\n",
    "            print(\"No food items detected in the image.\")\n",
    "        \n",
    "        return results\n",
    "    except Exception as e:\n",
    "        print(f\"Error processing image: {str(e)}\")\n",
    "        return []\n",
    "\n",
    "if __name__ == \"__main__\":\n",
    "    test_image = \"https://www.southernliving.com/thmb/7nXwDG77BEDSYw0zUbxmK6m-zpU=/1500x0/filters:no_upscale():max_bytes(150000):strip_icc()/GettyImages-96776928-2000-32160ee48e3146f693ee3ee8d8b6dca5.jpg\"\n",
    "    \n",
    "    results = analyze_image(test_image)\n",
    "    \n",
    "    if results:\n",
    "        print(\"\\nDetection Results:\")\n",
    "        for idx, item in enumerate(results, 1):\n",
    "            print(f\"{idx}. {item['food']} (Confidence: {item['confidence']:.2f})\")\n",
    "            print(f\"   Bounding Box: {item['bbox']}\\n\")\n",
    "    else:\n",
    "        print(\"No food items found in the image.\")"
   ]
  }
 ],
 "metadata": {
  "kernelspec": {
   "display_name": "Python 3 (ipykernel)",
   "language": "python",
   "name": "python3"
  },
  "language_info": {
   "codemirror_mode": {
    "name": "ipython",
    "version": 3
   },
   "file_extension": ".py",
   "mimetype": "text/x-python",
   "name": "python",
   "nbconvert_exporter": "python",
   "pygments_lexer": "ipython3",
   "version": "3.12.3"
  }
 },
 "nbformat": 4,
 "nbformat_minor": 5
}
