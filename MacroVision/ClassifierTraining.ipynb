{
 "cells": [
  {
   "cell_type": "code",
   "execution_count": 7,
   "id": "14515e12-b582-42db-9290-3b6e4294176b",
   "metadata": {},
   "outputs": [
    {
     "name": "stderr",
     "output_type": "stream",
     "text": [
      "/root/Projects/Hackathon/MacroVision/venv/lib/python3.12/site-packages/torchvision/models/_utils.py:208: UserWarning: The parameter 'pretrained' is deprecated since 0.13 and may be removed in the future, please use 'weights' instead.\n",
      "  warnings.warn(\n",
      "/root/Projects/Hackathon/MacroVision/venv/lib/python3.12/site-packages/torchvision/models/_utils.py:223: UserWarning: Arguments other than a weight enum or `None` for 'weights' are deprecated since 0.13 and may be removed in the future. The current behavior is equivalent to passing `weights=EfficientNet_B0_Weights.IMAGENET1K_V1`. You can also use `weights=EfficientNet_B0_Weights.DEFAULT` to get the most up-to-date weights.\n",
      "  warnings.warn(msg)\n"
     ]
    },
    {
     "name": "stdout",
     "output_type": "stream",
     "text": [
      "Epoch 1 Loss: 2.0905\n",
      "Epoch 2 Loss: 1.8108\n",
      "Epoch 3 Loss: 1.3383\n",
      "Epoch 4 Loss: 0.5646\n",
      "Epoch 5 Loss: 1.0345\n",
      "Epoch 6 Loss: 0.2299\n",
      "Epoch 7 Loss: 1.1748\n",
      "Epoch 8 Loss: 0.6313\n",
      "Epoch 9 Loss: 0.5175\n",
      "Epoch 10 Loss: 0.1817\n",
      "Training complete! Model saved as food_classifier.pth\n"
     ]
    }
   ],
   "source": [
    "import torch\n",
    "from torchvision import datasets, transforms, models\n",
    "from torch.utils.data import DataLoader\n",
    "\n",
    "train_transform = transforms.Compose([\n",
    "    transforms.Resize(256),\n",
    "    transforms.RandomCrop(224),\n",
    "    transforms.ToTensor(),\n",
    "    transforms.Normalize([0.485, 0.456, 0.406], [0.229, 0.224, 0.225])\n",
    "])\n",
    "\n",
    "train_data = datasets.ImageFolder('/root/Projects/Hackathon/MacroVision/food-101/images', transform=train_transform)\n",
    "train_loader = DataLoader(train_data, batch_size=32, shuffle=True)\n",
    "\n",
    "model = models.efficientnet_b0(pretrained=True)\n",
    "model.classifier[1] = torch.nn.Linear(model.classifier[1].in_features, 101)\n",
    "\n",
    "device = torch.device('cuda' if torch.cuda.is_available() else 'cpu')\n",
    "model = model.to(device)\n",
    "\n",
    "optimizer = torch.optim.Adam(model.parameters(), lr=0.001)\n",
    "criterion = torch.nn.CrossEntropyLoss()\n",
    "\n",
    "for epoch in range(10): \n",
    "    for images, labels in train_loader:\n",
    "        images, labels = images.to(device), labels.to(device)\n",
    "        \n",
    "        optimizer.zero_grad()\n",
    "        outputs = model(images)\n",
    "        loss = criterion(outputs, labels)\n",
    "        loss.backward()\n",
    "        optimizer.step()\n",
    "    \n",
    "    print(f'Epoch {epoch+1} Loss: {loss.item():.4f}')\n",
    "\n",
    "torch.save(model.state_dict(), 'food_classifier.pth')\n",
    "print(\"Training complete! Model saved as food_classifier.pth\")"
   ]
  },
  {
   "cell_type": "code",
   "execution_count": 8,
   "id": "11570dd4-9885-4272-86b3-9051febfa527",
   "metadata": {},
   "outputs": [
    {
     "name": "stdout",
     "output_type": "stream",
     "text": [
      "/root/Projects/Hackathon/MacroVision/food-101/food_classifier.pth\n"
     ]
    }
   ],
   "source": [
    "import os\n",
    "\n",
    "# For files\n",
    "print(os.path.abspath(\"food_classifier.pth\"))"
   ]
  }
 ],
 "metadata": {
  "kernelspec": {
   "display_name": "Python 3 (ipykernel)",
   "language": "python",
   "name": "python3"
  },
  "language_info": {
   "codemirror_mode": {
    "name": "ipython",
    "version": 3
   },
   "file_extension": ".py",
   "mimetype": "text/x-python",
   "name": "python",
   "nbconvert_exporter": "python",
   "pygments_lexer": "ipython3",
   "version": "3.12.3"
  }
 },
 "nbformat": 4,
 "nbformat_minor": 5
}
